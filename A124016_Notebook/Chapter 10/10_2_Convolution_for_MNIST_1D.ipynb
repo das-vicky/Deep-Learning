{
 "cells": [
  {
   "cell_type": "markdown",
   "metadata": {
    "colab_type": "text",
    "id": "view-in-github"
   },
   "source": [
    "<a href=\"https://colab.research.google.com/github/udlbook/udlbook/blob/main/Notebooks/Chap10/10_2_Convolution_for_MNIST_1D.ipynb\" target=\"_parent\"><img src=\"https://colab.research.google.com/assets/colab-badge.svg\" alt=\"Open In Colab\"/></a>"
   ]
  },
  {
   "cell_type": "markdown",
   "metadata": {
    "id": "t9vk9Elugvmi"
   },
   "source": [
    "# **Notebook 10.2: Convolution for MNIST-1D**\n",
    "\n",
    "This notebook investigates a 1D convolutional network for MNIST-1D as in figure 10.7 and 10.8a.\n",
    "\n",
    "Work through the cells below, running each cell in turn. In various places you will see the words \"TODO\". Follow the instructions at these places and make predictions about what is going to happen or write code to complete the functions.\n",
    "\n",
    "Contact me at udlbookmail@gmail.com if you find any mistakes or have any suggestions.\n",
    "\n"
   ]
  },
  {
   "cell_type": "code",
   "execution_count": 1,
   "metadata": {
    "id": "D5yLObtZCi9J"
   },
   "outputs": [
    {
     "name": "stdout",
     "output_type": "stream",
     "text": [
      "Collecting git+https://github.com/greydanus/mnist1d\n",
      "  Cloning https://github.com/greydanus/mnist1d to c:\\users\\vicky\\appdata\\local\\temp\\pip-req-build-hx65qhm_\n",
      "  Resolved https://github.com/greydanus/mnist1d to commit 7878d96082abd200c546a07a4101fa90b30fdf7e\n",
      "  Installing build dependencies: started\n",
      "  Installing build dependencies: finished with status 'done'\n",
      "  Getting requirements to build wheel: started\n",
      "  Getting requirements to build wheel: finished with status 'done'\n",
      "  Preparing metadata (pyproject.toml): started\n",
      "  Preparing metadata (pyproject.toml): finished with status 'done'\n",
      "Requirement already satisfied: requests in c:\\users\\vicky\\appdata\\local\\programs\\python\\python312\\lib\\site-packages (from mnist1d==0.0.2.post16) (2.32.3)\n",
      "Requirement already satisfied: numpy in c:\\users\\vicky\\appdata\\local\\programs\\python\\python312\\lib\\site-packages (from mnist1d==0.0.2.post16) (2.1.0)\n",
      "Requirement already satisfied: matplotlib in c:\\users\\vicky\\appdata\\local\\programs\\python\\python312\\lib\\site-packages (from mnist1d==0.0.2.post16) (3.9.2)\n",
      "Requirement already satisfied: scipy in c:\\users\\vicky\\appdata\\local\\programs\\python\\python312\\lib\\site-packages (from mnist1d==0.0.2.post16) (1.14.1)\n",
      "Requirement already satisfied: contourpy>=1.0.1 in c:\\users\\vicky\\appdata\\local\\programs\\python\\python312\\lib\\site-packages (from matplotlib->mnist1d==0.0.2.post16) (1.3.0)\n",
      "Requirement already satisfied: cycler>=0.10 in c:\\users\\vicky\\appdata\\local\\programs\\python\\python312\\lib\\site-packages (from matplotlib->mnist1d==0.0.2.post16) (0.12.1)\n",
      "Requirement already satisfied: fonttools>=4.22.0 in c:\\users\\vicky\\appdata\\local\\programs\\python\\python312\\lib\\site-packages (from matplotlib->mnist1d==0.0.2.post16) (4.53.1)\n",
      "Requirement already satisfied: kiwisolver>=1.3.1 in c:\\users\\vicky\\appdata\\local\\programs\\python\\python312\\lib\\site-packages (from matplotlib->mnist1d==0.0.2.post16) (1.4.5)\n",
      "Requirement already satisfied: packaging>=20.0 in c:\\users\\vicky\\appdata\\local\\programs\\python\\python312\\lib\\site-packages (from matplotlib->mnist1d==0.0.2.post16) (24.1)\n",
      "Requirement already satisfied: pillow>=8 in c:\\users\\vicky\\appdata\\local\\programs\\python\\python312\\lib\\site-packages (from matplotlib->mnist1d==0.0.2.post16) (10.4.0)\n",
      "Requirement already satisfied: pyparsing>=2.3.1 in c:\\users\\vicky\\appdata\\local\\programs\\python\\python312\\lib\\site-packages (from matplotlib->mnist1d==0.0.2.post16) (3.1.4)\n",
      "Requirement already satisfied: python-dateutil>=2.7 in c:\\users\\vicky\\appdata\\local\\programs\\python\\python312\\lib\\site-packages (from matplotlib->mnist1d==0.0.2.post16) (2.9.0.post0)\n",
      "Requirement already satisfied: six>=1.5 in c:\\users\\vicky\\appdata\\local\\programs\\python\\python312\\lib\\site-packages (from python-dateutil>=2.7->matplotlib->mnist1d==0.0.2.post16) (1.16.0)\n",
      "Requirement already satisfied: charset-normalizer<4,>=2 in c:\\users\\vicky\\appdata\\local\\programs\\python\\python312\\lib\\site-packages (from requests->mnist1d==0.0.2.post16) (3.3.2)\n",
      "Requirement already satisfied: idna<4,>=2.5 in c:\\users\\vicky\\appdata\\local\\programs\\python\\python312\\lib\\site-packages (from requests->mnist1d==0.0.2.post16) (3.7)\n",
      "Requirement already satisfied: urllib3<3,>=1.21.1 in c:\\users\\vicky\\appdata\\local\\programs\\python\\python312\\lib\\site-packages (from requests->mnist1d==0.0.2.post16) (2.2.2)\n",
      "Requirement already satisfied: certifi>=2017.4.17 in c:\\users\\vicky\\appdata\\local\\programs\\python\\python312\\lib\\site-packages (from requests->mnist1d==0.0.2.post16) (2024.6.2)\n"
     ]
    },
    {
     "name": "stderr",
     "output_type": "stream",
     "text": [
      "  Running command git clone --filter=blob:none --quiet https://github.com/greydanus/mnist1d 'C:\\Users\\VICKY\\AppData\\Local\\Temp\\pip-req-build-hx65qhm_'\n"
     ]
    }
   ],
   "source": [
    "# Run this if you're in a Colab to install MNIST 1D repository\n",
    "!pip install git+https://github.com/greydanus/mnist1d"
   ]
  },
  {
   "cell_type": "code",
   "execution_count": 2,
   "metadata": {
    "id": "YrXWAH7sUWvU"
   },
   "outputs": [],
   "source": [
    "import numpy as np\n",
    "import os\n",
    "import torch, torch.nn as nn\n",
    "from torch.utils.data import TensorDataset, DataLoader\n",
    "from torch.optim.lr_scheduler import StepLR\n",
    "import matplotlib.pyplot as plt\n",
    "import mnist1d\n",
    "import random"
   ]
  },
  {
   "cell_type": "code",
   "execution_count": 3,
   "metadata": {
    "id": "twI72ZCrCt5z"
   },
   "outputs": [
    {
     "name": "stdout",
     "output_type": "stream",
     "text": [
      "Did or could not load data from ./mnist1d_data.pkl. Rebuilding dataset...\n",
      "Examples in training set: 4000\n",
      "Examples in test set: 1000\n",
      "Length of each example: 40\n"
     ]
    }
   ],
   "source": [
    "args = mnist1d.data.get_dataset_args()\n",
    "data = mnist1d.data.get_dataset(args, path='./mnist1d_data.pkl', download=False, regenerate=False)\n",
    "\n",
    "# The training and test input and outputs are in\n",
    "# data['x'], data['y'], data['x_test'], and data['y_test']\n",
    "print(\"Examples in training set: {}\".format(len(data['y'])))\n",
    "print(\"Examples in test set: {}\".format(len(data['y_test'])))\n",
    "print(\"Length of each example: {}\".format(data['x'].shape[-1]))"
   ]
  },
  {
   "cell_type": "code",
   "execution_count": 4,
   "metadata": {
    "id": "8bKADvLHbiV5"
   },
   "outputs": [
    {
     "name": "stdout",
     "output_type": "stream",
     "text": [
      "Train data: 4000 examples (columns), each of which has 40 dimensions (rows)\n",
      "Validation data: 1000 examples (columns), each of which has 40 dimensions (rows)\n"
     ]
    }
   ],
   "source": [
    "# Load in the data\n",
    "train_data_x = data['x'].transpose()\n",
    "train_data_y = data['y']\n",
    "val_data_x = data['x_test'].transpose()\n",
    "val_data_y = data['y_test']\n",
    "# Print out sizes\n",
    "print(\"Train data: %d examples (columns), each of which has %d dimensions (rows)\"%((train_data_x.shape[1],train_data_x.shape[0])))\n",
    "print(\"Validation data: %d examples (columns), each of which has %d dimensions (rows)\"%((val_data_x.shape[1],val_data_x.shape[0])))"
   ]
  },
  {
   "cell_type": "markdown",
   "metadata": {
    "id": "_sFvRDGrl4qe"
   },
   "source": [
    "Define the network"
   ]
  },
  {
   "cell_type": "code",
   "execution_count": 8,
   "metadata": {
    "id": "FslroPJJffrh"
   },
   "outputs": [],
   "source": [
    "# There are 40 input dimensions and 10 output dimensions for this data\n",
    "# The inputs correspond to the 40 offsets in the MNIST1D template.\n",
    "D_i = 40\n",
    "# The outputs correspond to the 10 digits\n",
    "D_o = 10\n",
    "\n",
    "\n",
    "# TODO Create a model with the following layers\n",
    "\n",
    "\n",
    "# References:\n",
    "# https://pytorch.org/docs/1.13/generated/torch.nn.Conv1d.html?highlight=conv1d#torch.nn.Conv1d\n",
    "# https://pytorch.org/docs/stable/generated/torch.nn.Flatten.html\n",
    "# https://pytorch.org/docs/1.13/generated/torch.nn.Linear.html?highlight=linear#torch.nn.Linear\n",
    "\n",
    "# Replace the following functions:\n",
    "model = nn.Sequential(\n",
    "    # 1. Convolutional layer, (input=length 40 and 1 channel, kernel size 3, stride 2, padding=\"valid\", 15 output channels )\n",
    "nn.Conv1d(in_channels=1, out_channels=15, kernel_size=3, stride=2, padding=0),\n",
    "# 2. ReLU\n",
    "nn.ReLU(),\n",
    "\n",
    "# 3. Convolutional layer, (input=length 19 and 15 channels, kernel size 3, stride 2, padding=\"valid\", 15 output channels )\n",
    "nn.Conv1d(in_channels=15, out_channels=15, kernel_size=3, stride=2, padding=0),\n",
    "# 4. ReLU\n",
    "nn.ReLU(),\n",
    "\n",
    "# 5. Convolutional layer, (input=length 9 and 15 channels, kernel size 3, stride 2, padding=\"valid\", 15 output channels)\n",
    "nn.Conv1d(in_channels=15, out_channels=15, kernel_size=3, stride=2, padding=0),\n",
    "# 6. ReLU\n",
    "nn.ReLU(),\n",
    "\n",
    "# 7. Flatten (converts 4x15) to length 60\n",
    "nn.Flatten(),\n",
    "\n",
    "# 8. Linear layer (input size = 60, output size = 10)\n",
    "nn.Linear(in_features=60, out_features=10)\n",
    ")\n",
    "\n",
    "\n"
   ]
  },
  {
   "cell_type": "code",
   "execution_count": 9,
   "metadata": {
    "id": "YgLaex1pfhqz"
   },
   "outputs": [],
   "source": [
    "# He initialization of weights\n",
    "def weights_init(layer_in):\n",
    "  if isinstance(layer_in, nn.Linear):\n",
    "    nn.init.kaiming_uniform_(layer_in.weight)\n",
    "    layer_in.bias.data.fill_(0.0)"
   ]
  },
  {
   "cell_type": "code",
   "execution_count": 10,
   "metadata": {
    "id": "NYw8I_3mmX5c"
   },
   "outputs": [
    {
     "name": "stdout",
     "output_type": "stream",
     "text": [
      "Epoch     0, train loss 2.045290, train error 77.60,  val loss 2.036068, percent error 78.40\n",
      "Epoch     1, train loss 1.496448, train error 57.10,  val loss 1.508748, percent error 60.00\n",
      "Epoch     2, train loss 1.302382, train error 53.40,  val loss 1.320295, percent error 55.50\n",
      "Epoch     3, train loss 1.144471, train error 46.35,  val loss 1.170210, percent error 49.60\n",
      "Epoch     4, train loss 1.116668, train error 45.53,  val loss 1.118879, percent error 47.70\n",
      "Epoch     5, train loss 1.001212, train error 40.08,  val loss 1.047844, percent error 43.20\n",
      "Epoch     6, train loss 0.930926, train error 38.20,  val loss 0.991448, percent error 40.60\n",
      "Epoch     7, train loss 0.861307, train error 34.82,  val loss 0.914699, percent error 37.50\n",
      "Epoch     8, train loss 0.758056, train error 31.20,  val loss 0.819519, percent error 33.50\n",
      "Epoch     9, train loss 0.676166, train error 25.80,  val loss 0.741575, percent error 29.40\n",
      "Epoch    10, train loss 0.569132, train error 21.15,  val loss 0.662598, percent error 25.70\n",
      "Epoch    11, train loss 0.597510, train error 22.38,  val loss 0.668308, percent error 24.90\n",
      "Epoch    12, train loss 0.500249, train error 18.95,  val loss 0.596467, percent error 23.50\n",
      "Epoch    13, train loss 0.502879, train error 18.15,  val loss 0.597803, percent error 22.40\n",
      "Epoch    14, train loss 0.423908, train error 16.03,  val loss 0.544817, percent error 20.10\n",
      "Epoch    15, train loss 0.399359, train error 14.93,  val loss 0.517544, percent error 19.20\n",
      "Epoch    16, train loss 0.309531, train error 11.15,  val loss 0.432244, percent error 15.50\n",
      "Epoch    17, train loss 0.277704, train error 9.93,  val loss 0.412289, percent error 15.20\n",
      "Epoch    18, train loss 0.256688, train error 9.35,  val loss 0.406887, percent error 14.00\n",
      "Epoch    19, train loss 0.208469, train error 6.70,  val loss 0.340569, percent error 11.40\n",
      "Epoch    20, train loss 0.176735, train error 5.65,  val loss 0.340734, percent error 11.70\n",
      "Epoch    21, train loss 0.170679, train error 5.30,  val loss 0.324969, percent error 11.20\n",
      "Epoch    22, train loss 0.183421, train error 6.30,  val loss 0.345726, percent error 11.50\n",
      "Epoch    23, train loss 0.140301, train error 4.38,  val loss 0.326316, percent error 11.20\n",
      "Epoch    24, train loss 0.148714, train error 5.03,  val loss 0.349321, percent error 11.50\n",
      "Epoch    25, train loss 0.135218, train error 4.57,  val loss 0.324384, percent error 10.50\n",
      "Epoch    26, train loss 0.135142, train error 4.30,  val loss 0.332187, percent error 11.10\n",
      "Epoch    27, train loss 0.117734, train error 3.82,  val loss 0.338026, percent error 10.90\n",
      "Epoch    28, train loss 0.117709, train error 4.00,  val loss 0.347075, percent error 11.00\n",
      "Epoch    29, train loss 0.108305, train error 3.43,  val loss 0.344057, percent error 10.50\n",
      "Epoch    30, train loss 0.107211, train error 3.53,  val loss 0.373474, percent error 11.30\n",
      "Epoch    31, train loss 0.109388, train error 3.65,  val loss 0.369869, percent error 10.80\n",
      "Epoch    32, train loss 0.099641, train error 3.43,  val loss 0.378625, percent error 10.70\n",
      "Epoch    33, train loss 0.118987, train error 4.10,  val loss 0.383525, percent error 11.70\n",
      "Epoch    34, train loss 0.073694, train error 2.18,  val loss 0.345383, percent error 9.90\n",
      "Epoch    35, train loss 0.105787, train error 3.90,  val loss 0.400194, percent error 11.60\n",
      "Epoch    36, train loss 0.083651, train error 2.70,  val loss 0.388723, percent error 11.00\n",
      "Epoch    37, train loss 0.088489, train error 3.03,  val loss 0.381449, percent error 11.20\n",
      "Epoch    38, train loss 0.077862, train error 2.43,  val loss 0.373902, percent error 10.80\n",
      "Epoch    39, train loss 0.065193, train error 1.93,  val loss 0.367542, percent error 10.00\n",
      "Epoch    40, train loss 0.058550, train error 1.55,  val loss 0.376431, percent error 10.40\n",
      "Epoch    41, train loss 0.054071, train error 1.32,  val loss 0.373088, percent error 9.90\n",
      "Epoch    42, train loss 0.058824, train error 1.55,  val loss 0.381895, percent error 10.20\n",
      "Epoch    43, train loss 0.052214, train error 1.15,  val loss 0.387341, percent error 9.50\n",
      "Epoch    44, train loss 0.055572, train error 1.55,  val loss 0.397601, percent error 10.60\n",
      "Epoch    45, train loss 0.047502, train error 0.95,  val loss 0.381756, percent error 10.10\n",
      "Epoch    46, train loss 0.049371, train error 1.12,  val loss 0.385175, percent error 9.60\n",
      "Epoch    47, train loss 0.047116, train error 1.03,  val loss 0.375926, percent error 9.80\n",
      "Epoch    48, train loss 0.043554, train error 0.82,  val loss 0.392310, percent error 10.30\n",
      "Epoch    49, train loss 0.042543, train error 0.88,  val loss 0.397419, percent error 10.40\n",
      "Epoch    50, train loss 0.040475, train error 0.65,  val loss 0.407038, percent error 9.70\n",
      "Epoch    51, train loss 0.042509, train error 0.75,  val loss 0.413738, percent error 10.10\n",
      "Epoch    52, train loss 0.041725, train error 0.88,  val loss 0.394894, percent error 10.10\n",
      "Epoch    53, train loss 0.044854, train error 1.03,  val loss 0.423611, percent error 10.30\n",
      "Epoch    54, train loss 0.038827, train error 0.78,  val loss 0.409049, percent error 9.60\n",
      "Epoch    55, train loss 0.036334, train error 0.45,  val loss 0.411774, percent error 10.30\n",
      "Epoch    56, train loss 0.038192, train error 0.78,  val loss 0.424703, percent error 10.10\n",
      "Epoch    57, train loss 0.045668, train error 1.25,  val loss 0.454722, percent error 10.60\n",
      "Epoch    58, train loss 0.036519, train error 0.70,  val loss 0.423587, percent error 9.70\n",
      "Epoch    59, train loss 0.034283, train error 0.60,  val loss 0.417823, percent error 10.30\n",
      "Epoch    60, train loss 0.031732, train error 0.53,  val loss 0.431563, percent error 10.10\n",
      "Epoch    61, train loss 0.030758, train error 0.40,  val loss 0.428501, percent error 9.60\n",
      "Epoch    62, train loss 0.031220, train error 0.43,  val loss 0.429528, percent error 10.30\n",
      "Epoch    63, train loss 0.030411, train error 0.43,  val loss 0.433209, percent error 9.90\n",
      "Epoch    64, train loss 0.030407, train error 0.45,  val loss 0.441388, percent error 10.00\n",
      "Epoch    65, train loss 0.029231, train error 0.35,  val loss 0.436849, percent error 9.90\n",
      "Epoch    66, train loss 0.029568, train error 0.38,  val loss 0.441331, percent error 9.90\n",
      "Epoch    67, train loss 0.028491, train error 0.38,  val loss 0.436452, percent error 9.90\n",
      "Epoch    68, train loss 0.027841, train error 0.32,  val loss 0.443311, percent error 9.90\n",
      "Epoch    69, train loss 0.027765, train error 0.32,  val loss 0.442429, percent error 10.00\n",
      "Epoch    70, train loss 0.027668, train error 0.35,  val loss 0.445257, percent error 10.20\n",
      "Epoch    71, train loss 0.028047, train error 0.35,  val loss 0.441805, percent error 10.10\n",
      "Epoch    72, train loss 0.027063, train error 0.32,  val loss 0.445135, percent error 10.20\n",
      "Epoch    73, train loss 0.027537, train error 0.35,  val loss 0.452303, percent error 9.80\n",
      "Epoch    74, train loss 0.027583, train error 0.40,  val loss 0.448557, percent error 9.90\n",
      "Epoch    75, train loss 0.026040, train error 0.30,  val loss 0.452257, percent error 9.90\n",
      "Epoch    76, train loss 0.026789, train error 0.25,  val loss 0.464811, percent error 10.00\n",
      "Epoch    77, train loss 0.025959, train error 0.25,  val loss 0.463863, percent error 10.10\n",
      "Epoch    78, train loss 0.025525, train error 0.28,  val loss 0.456414, percent error 10.10\n",
      "Epoch    79, train loss 0.025623, train error 0.35,  val loss 0.456363, percent error 10.10\n",
      "Epoch    80, train loss 0.025014, train error 0.28,  val loss 0.454004, percent error 10.30\n",
      "Epoch    81, train loss 0.024230, train error 0.25,  val loss 0.464293, percent error 10.10\n",
      "Epoch    82, train loss 0.023935, train error 0.22,  val loss 0.461270, percent error 9.90\n",
      "Epoch    83, train loss 0.024130, train error 0.30,  val loss 0.459145, percent error 9.90\n",
      "Epoch    84, train loss 0.023815, train error 0.25,  val loss 0.461305, percent error 10.10\n",
      "Epoch    85, train loss 0.023553, train error 0.22,  val loss 0.463867, percent error 9.80\n",
      "Epoch    86, train loss 0.023664, train error 0.22,  val loss 0.468286, percent error 10.00\n",
      "Epoch    87, train loss 0.023350, train error 0.22,  val loss 0.464431, percent error 10.20\n",
      "Epoch    88, train loss 0.023288, train error 0.25,  val loss 0.468151, percent error 10.00\n",
      "Epoch    89, train loss 0.023063, train error 0.22,  val loss 0.467003, percent error 10.00\n",
      "Epoch    90, train loss 0.023397, train error 0.22,  val loss 0.468065, percent error 10.00\n",
      "Epoch    91, train loss 0.022974, train error 0.25,  val loss 0.467828, percent error 10.10\n",
      "Epoch    92, train loss 0.022720, train error 0.25,  val loss 0.468002, percent error 10.00\n",
      "Epoch    93, train loss 0.022652, train error 0.20,  val loss 0.467740, percent error 10.00\n",
      "Epoch    94, train loss 0.022750, train error 0.20,  val loss 0.473266, percent error 9.70\n",
      "Epoch    95, train loss 0.022478, train error 0.22,  val loss 0.469991, percent error 9.90\n",
      "Epoch    96, train loss 0.022259, train error 0.20,  val loss 0.472160, percent error 9.90\n",
      "Epoch    97, train loss 0.022178, train error 0.18,  val loss 0.477788, percent error 9.90\n",
      "Epoch    98, train loss 0.021997, train error 0.20,  val loss 0.472714, percent error 9.90\n",
      "Epoch    99, train loss 0.022136, train error 0.20,  val loss 0.479282, percent error 10.10\n"
     ]
    },
    {
     "data": {
      "image/png": "[encoded data removed]",
      "text/plain": [
       "<Figure size 640x480 with 1 Axes>"
      ]
     },
     "metadata": {},
     "output_type": "display_data"
    }
   ],
   "source": [
    "# choose cross entropy loss function (equation 5.24 in the loss notes)\n",
    "loss_function = nn.CrossEntropyLoss()\n",
    "# construct SGD optimizer and initialize learning rate and momentum\n",
    "optimizer = torch.optim.SGD(model.parameters(), lr = 0.05, momentum=0.9)\n",
    "# object that decreases learning rate by half every 20 epochs\n",
    "scheduler = StepLR(optimizer, step_size=20, gamma=0.5)\n",
    "# create 100 dummy data points and store in data loader class\n",
    "x_train = torch.tensor(train_data_x.transpose().astype('float32'))\n",
    "y_train = torch.tensor(train_data_y.astype('long')).long()\n",
    "x_val= torch.tensor(val_data_x.transpose().astype('float32'))\n",
    "y_val = torch.tensor(val_data_y.astype('long')).long()\n",
    "\n",
    "# load the data into a class that creates the batches\n",
    "data_loader = DataLoader(TensorDataset(x_train,y_train), batch_size=100, shuffle=True, worker_init_fn=np.random.seed(1))\n",
    "\n",
    "# Initialize model weights\n",
    "model.apply(weights_init)\n",
    "\n",
    "# loop over the dataset n_epoch times\n",
    "n_epoch = 100\n",
    "# store the loss and the % correct at each epoch\n",
    "losses_train = np.zeros((n_epoch))\n",
    "errors_train = np.zeros((n_epoch))\n",
    "losses_val = np.zeros((n_epoch))\n",
    "errors_val = np.zeros((n_epoch))\n",
    "\n",
    "for epoch in range(n_epoch):\n",
    "  # loop over batches\n",
    "  for i, data in enumerate(data_loader):\n",
    "    # retrieve inputs and labels for this batch\n",
    "    x_batch, y_batch = data\n",
    "    # zero the parameter gradients\n",
    "    optimizer.zero_grad()\n",
    "    # forward pass -- calculate model output\n",
    "    pred = model(x_batch[:,None,:])\n",
    "    # compute the loss\n",
    "    loss = loss_function(pred, y_batch)\n",
    "    # backward pass\n",
    "    loss.backward()\n",
    "    # SGD update\n",
    "    optimizer.step()\n",
    "\n",
    "  # Run whole dataset to get statistics -- normally wouldn't do this\n",
    "  pred_train = model(x_train[:,None,:])\n",
    "  pred_val = model(x_val[:,None,:])\n",
    "  _, predicted_train_class = torch.max(pred_train.data, 1)\n",
    "  _, predicted_val_class = torch.max(pred_val.data, 1)\n",
    "  errors_train[epoch] = 100 - 100 * (predicted_train_class == y_train).float().sum() / len(y_train)\n",
    "  errors_val[epoch]= 100 - 100 * (predicted_val_class == y_val).float().sum() / len(y_val)\n",
    "  losses_train[epoch] = loss_function(pred_train, y_train).item()\n",
    "  losses_val[epoch]= loss_function(pred_val, y_val).item()\n",
    "  print(f'Epoch {epoch:5d}, train loss {losses_train[epoch]:.6f}, train error {errors_train[epoch]:3.2f},  val loss {losses_val[epoch]:.6f}, percent error {errors_val[epoch]:3.2f}')\n",
    "\n",
    "  # tell scheduler to consider updating learning rate\n",
    "  scheduler.step()\n",
    "\n",
    "# Plot the results\n",
    "fig, ax = plt.subplots()\n",
    "ax.plot(errors_train,'r-',label='train')\n",
    "ax.plot(errors_val,'b-',label='validation')\n",
    "ax.set_ylim(0,100); ax.set_xlim(0,n_epoch)\n",
    "ax.set_xlabel('Epoch'); ax.set_ylabel('Error')\n",
    "ax.set_title('Part I: Validation Result %3.2f'%(errors_val[-1]))\n",
    "ax.legend()\n",
    "plt.show()"
   ]
  },
  {
   "cell_type": "code",
   "execution_count": null,
   "metadata": {},
   "outputs": [],
   "source": []
  }
 ],
 "metadata": {
  "colab": {
   "authorship_tag": "ABX9TyNb46PJB/CC1pcHGfjpUUZg",
   "include_colab_link": true,
   "provenance": []
  },
  "kernelspec": {
   "display_name": "Python 3 (ipykernel)",
   "language": "python",
   "name": "python3"
  },
  "language_info": {
   "codemirror_mode": {
    "name": "ipython",
    "version": 3
   },
   "file_extension": ".py",
   "mimetype": "text/x-python",
   "name": "python",
   "nbconvert_exporter": "python",
   "pygments_lexer": "ipython3",
   "version": "3.12.3"
  }
 },
 "nbformat": 4,
 "nbformat_minor": 4
}
